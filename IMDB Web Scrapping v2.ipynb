{
 "cells": [
  {
   "cell_type": "markdown",
   "metadata": {},
   "source": [
    "# Capstone Webscrapping using BeautifulSoup\n",
    "\n",
    "One of capstone project with objective to do webscrapping by using BeautifulSoup\n",
    "\n",
    "This notebook will provide step by step to do webscrapping using BeautifulSoup from IMDb website. We will scrap list of movie in 2019 that has been order ascending based on popularity.\n",
    "\n",
    "We will do simple analysis from the list movie that we got from scrapping\n",
    "\n",
    "Enjoy !!"
   ]
  },
  {
   "cell_type": "code",
   "execution_count": 1,
   "metadata": {
    "ExecuteTime": {
     "end_time": "2020-01-13T05:12:23.275508Z",
     "start_time": "2020-01-13T05:12:20.009898Z"
    }
   },
   "outputs": [],
   "source": [
    "#called library that we will use, we will several library such as pandas, numpy for data\n",
    "#library requests for URL and matplotlib, seaborn for teh visualization\n",
    "\n",
    "import pandas as pd\n",
    "import requests\n",
    "import matplotlib.pyplot as plt\n",
    "import seaborn as sns\n",
    "import numpy as np\n",
    "from IPython.display import display, HTML"
   ]
  },
  {
   "cell_type": "markdown",
   "metadata": {},
   "source": [
    "To visualize what exactly you get from the `request.get`, we can use .content so ee what we exactly get, in here i slice it so it won't make our screen full of the html we get from the page. You can delete the slicing if you want to see what we fully get."
   ]
  },
  {
   "cell_type": "code",
   "execution_count": 2,
   "metadata": {
    "ExecuteTime": {
     "end_time": "2020-01-13T05:12:23.290648Z",
     "start_time": "2020-01-13T05:12:23.277650Z"
    }
   },
   "outputs": [
    {
     "data": {
      "text/plain": [
       "b'\\n<!DOCTYPE html>\\n<html\\n    xmlns:og=\"http://ogp.me/ns#\"\\n    xmlns:fb=\"http://www.facebook.com/2008/fbml\">\\n    <head>\\n         \\n        <meta charset=\"utf-8\">\\n        <meta http-equiv=\"X-UA-Compatible\" content=\"IE=edge\">\\n\\n    <meta name=\"apple-itunes-app\" content=\"app-id=342792525, app-argument=imdb:///?src=mdot\">\\n\\n\\n\\n        <script type=\"text/javascript\">var IMDbTimer={starttime: new Date().getTime(),pt:\\'java\\'};</script>\\n\\n<script>\\n    if (typeof uet == \\'function\\') {\\n      uet(\"bb\", \"LoadTitle\",'"
      ]
     },
     "execution_count": 2,
     "metadata": {},
     "output_type": "execute_result"
    }
   ],
   "source": [
    "#put URL of IMDb here\n",
    "url_get = requests.get('https://www.imdb.com/search/title/?release_date=2019-01-01,2019-12-31')\n",
    "url_get.content[1:500] #to display the HTML code"
   ]
  },
  {
   "cell_type": "markdown",
   "metadata": {},
   "source": [
    "As we can see we get a very unstructured and complex html, which actually contains the codes needed to show the webpages on your web browser. But we as human still confused what and where we can use that piece of code, so here where we use the beautifulsoup. Beautiful soup class will result a beautifulsoup object. Beautiful Soup transforms a complex HTML document into a complex tree of Python objects. But you’ll only ever have to deal with about four kinds of objects: `Tag`, `NavigableString`, `BeautifulSoup`, and `Comment`. But at this module we will only use `BeautifulSoup`."
   ]
  },
  {
   "cell_type": "code",
   "execution_count": 3,
   "metadata": {
    "ExecuteTime": {
     "end_time": "2020-01-13T05:12:23.808122Z",
     "start_time": "2020-01-13T05:12:23.292610Z"
    }
   },
   "outputs": [
    {
     "name": "stdout",
     "output_type": "stream",
     "text": [
      "<class 'bs4.BeautifulSoup'>\n"
     ]
    }
   ],
   "source": [
    "#library that we will use for scrapping : BeautifulSoup\n",
    "\n",
    "from bs4 import BeautifulSoup \n",
    "\n",
    "soup = BeautifulSoup(url_get.content,\"html.parser\")\n",
    "print(type(soup))"
   ]
  },
  {
   "cell_type": "markdown",
   "metadata": {},
   "source": [
    "Let's see how our beautifulsoup looks like. As you can see, the content is the same with our `get_url` object but it's tidier. Also beautifulsoup give us method to make it even more prettier, for tidyness purpouse we slice to only see first 1045 character. "
   ]
  },
  {
   "cell_type": "code",
   "execution_count": 4,
   "metadata": {
    "ExecuteTime": {
     "end_time": "2020-01-13T05:12:23.851033Z",
     "start_time": "2020-01-13T05:12:23.810086Z"
    }
   },
   "outputs": [
    {
     "name": "stdout",
     "output_type": "stream",
     "text": [
      "<!DOCTYPE html>\n",
      "<html xmlns:fb=\"http://www.facebook.com/2008/fbml\" xmlns:og=\"http://ogp.me/ns#\">\n",
      " <head>\n",
      "  <meta charset=\"utf-8\"/>\n",
      "  <meta content=\"IE=edge\" http-equiv=\"X-UA-Compatible\"/>\n",
      "  <meta content=\"app-id=342792525, app-argument=imdb:///?src=mdot\" name=\"apple-itunes-app\"/>\n",
      "  <script type=\"text/javascript\">\n",
      "   var IMDbTimer={starttime: new Date().getTime(),pt:'java'};\n",
      "  </script>\n",
      "  <script>\n",
      "   if (typeof uet == 'function') {\n",
      "      uet(\"bb\", \"LoadTitle\", {wb: 1});\n",
      "    }\n",
      "  </script>\n",
      "  <script>\n",
      "   (function(t){ (t.events = t.events || {})[\"csm_head_pre_title\"] = new Date().getTime(); })(IMDbTimer);\n",
      "  </script>\n",
      "  <title>\n",
      "   Released between 2019-01-01 and 2019-12-31\n",
      "(Sorted by Popularity Ascending) - IMDb\n",
      "  </title>\n",
      "  <script>\n",
      "   (function(t){ (t.events = t.events || {})[\"csm_head_post_title\"] = new Date().getTime(); })(IMDbTimer);\n",
      "  </script>\n",
      "  <script>\n",
      "   if (typeof uet == 'function') {\n",
      "      uet(\"be\", \"LoadTitle\", {wb: 1});\n",
      "    }\n",
      "  </script>\n",
      "  <script>\n",
      "   if (typeof uex == 'function') {\n",
      "      uex(\"ld\", \"LoadTitle\", {wb: 1});\n"
     ]
    }
   ],
   "source": [
    "print(soup.prettify()[:1045])"
   ]
  },
  {
   "cell_type": "markdown",
   "metadata": {},
   "source": [
    "Find the key and put the key into the `.find()` . Do inspect on website IMDb and we got lister-list as the head of list movie"
   ]
  },
  {
   "cell_type": "code",
   "execution_count": 5,
   "metadata": {
    "ExecuteTime": {
     "end_time": "2020-01-13T05:12:23.878904Z",
     "start_time": "2020-01-13T05:12:23.854974Z"
    }
   },
   "outputs": [
    {
     "name": "stdout",
     "output_type": "stream",
     "text": [
      "div class=\"lister-list\">\n",
      " <div class=\"lister-item mode-advanced\">\n",
      "  <div class=\"lister-top-right\">\n",
      "   <div class=\"ribbonize\" data-caller=\"filmosearch\" data-tconst=\"tt8111088\">\n",
      "   </div>\n",
      "  </div>\n",
      "  <div class=\"lister-item-image float-left\">\n",
      "   <a href=\"/title/tt8111088/\">\n",
      "    <img alt=\"The Mandalorian\" class=\"loadlate\" data-tconst=\"tt8111088\" height=\"98\" loadlate=\"https://m.media-amazon.com/images/M/MV5BZDhlMzY0ZGItZTcyNS00ZTAxLWIyMmYtZGQ2ODg5OWZiYmJkXkEyXkFqcGdeQXVyODkzNTgxMDg@._V1_UX67_CR0,0,6\n"
     ]
    }
   ],
   "source": [
    "table = soup.find(class_=\"lister-list\",attrs={'class'})\n",
    "print(table.prettify()[1:500])"
   ]
  },
  {
   "cell_type": "markdown",
   "metadata": {},
   "source": [
    "Start Scrapping here by define some variable (pages and temp) before we did the looping process"
   ]
  },
  {
   "cell_type": "code",
   "execution_count": 6,
   "metadata": {},
   "outputs": [
    {
     "data": {
      "text/plain": [
       "array([ 1, 51])"
      ]
     },
     "execution_count": 6,
     "metadata": {},
     "output_type": "execute_result"
    }
   ],
   "source": [
    "#pages is used for help to move into next page. Current URL only show the firs 50 movie\n",
    "#we will scrapping 100 list movie from the website IMDb\n",
    "\n",
    "pages = np.arange(1,101,50)\n",
    "pages"
   ]
  },
  {
   "cell_type": "code",
   "execution_count": 7,
   "metadata": {},
   "outputs": [],
   "source": [
    "#temp was used for store some variable such as title, year, duration, IMDb rating, metascore\n",
    "temp = []"
   ]
  },
  {
   "cell_type": "code",
   "execution_count": 8,
   "metadata": {},
   "outputs": [],
   "source": [
    "headers = {\"Accept-Language\": \"en-US,en;q=0.5\"}"
   ]
  },
  {
   "cell_type": "code",
   "execution_count": 9,
   "metadata": {},
   "outputs": [
    {
     "data": {
      "text/plain": [
       "[('The Mandalorian',\n",
       "  '(2019– )',\n",
       "  '8.7',\n",
       "  None,\n",
       "  '220,069',\n",
       "  '40 min',\n",
       "  'Action, Adventure, Sci-Fi'),\n",
       " ('His Dark Materials',\n",
       "  '(2019– )',\n",
       "  '7.9',\n",
       "  None,\n",
       "  '42,239',\n",
       "  '60 min',\n",
       "  'Adventure, Drama, Family'),\n",
       " ('The Boys',\n",
       "  '(2019– )',\n",
       "  '8.7',\n",
       "  None,\n",
       "  '218,061',\n",
       "  '60 min',\n",
       "  'Action, Comedy, Crime'),\n",
       " ('Dreamland',\n",
       "  '(I) (2019)',\n",
       "  '5.7',\n",
       "  '57        ',\n",
       "  '1,234',\n",
       "  '98 min',\n",
       "  'Drama, Thriller'),\n",
       " ('Jojo Rabbit',\n",
       "  '(2019)',\n",
       "  '7.9',\n",
       "  '58        ',\n",
       "  '278,348',\n",
       "  '108 min',\n",
       "  'Comedy, Drama, War'),\n",
       " ('Servant',\n",
       "  '(2019– )',\n",
       "  '7.6',\n",
       "  None,\n",
       "  '15,900',\n",
       "  '30 min',\n",
       "  'Drama, Horror, Thriller'),\n",
       " ('Wayne', '(2019)', '8.4', None, '8,550', '30 min', 'Action, Comedy'),\n",
       " ('The Gentlemen',\n",
       "  '(2019)',\n",
       "  '7.8',\n",
       "  '51        ',\n",
       "  '207,942',\n",
       "  '113 min',\n",
       "  'Action, Comedy, Crime'),\n",
       " ('Undercover',\n",
       "  '(2019– )',\n",
       "  '7.9',\n",
       "  None,\n",
       "  '9,474',\n",
       "  '50 min',\n",
       "  'Crime, Drama, Thriller'),\n",
       " ('The Witcher',\n",
       "  '(2019– )',\n",
       "  '8.2',\n",
       "  None,\n",
       "  '282,786',\n",
       "  '60 min',\n",
       "  'Action, Adventure, Fantasy'),\n",
       " ('Knives Out',\n",
       "  '(2019)',\n",
       "  '7.9',\n",
       "  None,\n",
       "  '419,922',\n",
       "  '130 min',\n",
       "  'Comedy, Crime, Drama'),\n",
       " ('Parasite',\n",
       "  '(2019)',\n",
       "  '8.6',\n",
       "  None,\n",
       "  '512,755',\n",
       "  '132 min',\n",
       "  'Comedy, Drama, Thriller'),\n",
       " ('Once Upon a Time... In Hollywood',\n",
       "  '(2019)',\n",
       "  '7.6',\n",
       "  None,\n",
       "  '531,119',\n",
       "  '161 min',\n",
       "  'Comedy, Drama'),\n",
       " ('Joker',\n",
       "  '(2019)',\n",
       "  '8.5',\n",
       "  '59        ',\n",
       "  '900,872',\n",
       "  '122 min',\n",
       "  'Crime, Drama, Thriller'),\n",
       " ('Avengers: Endgame',\n",
       "  '(2019)',\n",
       "  '8.4',\n",
       "  None,\n",
       "  '782,806',\n",
       "  '181 min',\n",
       "  'Action, Adventure, Drama'),\n",
       " ('Sex Education',\n",
       "  '(2019– )',\n",
       "  '8.3',\n",
       "  None,\n",
       "  '149,148',\n",
       "  '45 min',\n",
       "  'Comedy, Drama'),\n",
       " ('Euphoria', '(2019– )', '8.4', None, '53,671', '55 min', 'Drama'),\n",
       " ('Warrior',\n",
       "  '(2019– )',\n",
       "  '8.2',\n",
       "  None,\n",
       "  '13,200',\n",
       "  '60 min',\n",
       "  'Action, Crime, Drama'),\n",
       " ('1917', '(2019)', '8.3', None, '393,731', '119 min', 'Drama, War'),\n",
       " ('Midsommar',\n",
       "  '(2019)',\n",
       "  '7.1',\n",
       "  None,\n",
       "  '191,098',\n",
       "  '148 min',\n",
       "  'Drama, Horror, Mystery'),\n",
       " ('Chernobyl',\n",
       "  '(2019)',\n",
       "  '9.4',\n",
       "  None,\n",
       "  '513,869',\n",
       "  '330 min',\n",
       "  'Drama, History, Thriller'),\n",
       " ('Doctor Sleep',\n",
       "  '(2019)',\n",
       "  '7.3',\n",
       "  '59        ',\n",
       "  '135,983',\n",
       "  '152 min',\n",
       "  'Drama, Fantasy, Horror'),\n",
       " ('Star Wars: Episode IX - The Rise of Skywalker',\n",
       "  '(2019)',\n",
       "  '6.6',\n",
       "  '53        ',\n",
       "  '359,369',\n",
       "  '141 min',\n",
       "  'Action, Adventure, Fantasy'),\n",
       " ('The Unicorn',\n",
       "  '(2019– )',\n",
       "  '7.2',\n",
       "  None,\n",
       "  '2,677',\n",
       "  '22 min',\n",
       "  'Comedy, Drama, Family'),\n",
       " (\"The Dead Don't Die\",\n",
       "  '(2019)',\n",
       "  '5.5',\n",
       "  '53        ',\n",
       "  '50,507',\n",
       "  '104 min',\n",
       "  'Comedy, Fantasy, Horror'),\n",
       " ('The Spanish Princess',\n",
       "  '(2019–2020)',\n",
       "  '6.8',\n",
       "  None,\n",
       "  '4,285',\n",
       "  '55 min',\n",
       "  'Drama, History'),\n",
       " ('The Morning Show',\n",
       "  '(I) (2019– )',\n",
       "  '8.4',\n",
       "  None,\n",
       "  '45,863',\n",
       "  '60 min',\n",
       "  'Drama'),\n",
       " ('Virgin River',\n",
       "  '(2019– )',\n",
       "  '7.5',\n",
       "  None,\n",
       "  '12,176',\n",
       "  '44 min',\n",
       "  'Drama, Romance'),\n",
       " ('The Irishman',\n",
       "  '(2019)',\n",
       "  '7.9',\n",
       "  None,\n",
       "  '314,585',\n",
       "  '209 min',\n",
       "  'Biography, Crime, Drama'),\n",
       " ('After', '(2019)', '5.3', None, '35,144', '105 min', 'Drama, Romance'),\n",
       " ('Cats', '(2019)', '2.8', None, '39,337', '110 min', 'Comedy, Drama, Family'),\n",
       " ('Little Women',\n",
       "  '(2019)',\n",
       "  '7.8',\n",
       "  None,\n",
       "  '132,738',\n",
       "  '135 min',\n",
       "  'Drama, Romance'),\n",
       " ('Jungleland', '(2019)', '6.2', '53        ', '1,292', '90 min', 'Drama'),\n",
       " ('Uncut Gems',\n",
       "  '(2019)',\n",
       "  '7.4',\n",
       "  None,\n",
       "  '210,349',\n",
       "  '135 min',\n",
       "  'Crime, Drama, Thriller'),\n",
       " ('Bombshell',\n",
       "  '(I) (2019)',\n",
       "  '6.8',\n",
       "  None,\n",
       "  '79,865',\n",
       "  '109 min',\n",
       "  'Biography, Drama'),\n",
       " ('Evil', '(2019– )', '7.6', None, '10,825', '42 min', 'Crime, Drama, Horror'),\n",
       " ('The Lighthouse',\n",
       "  '(I) (2019)',\n",
       "  '7.5',\n",
       "  None,\n",
       "  '133,362',\n",
       "  '109 min',\n",
       "  'Drama, Fantasy, Horror'),\n",
       " ('Buddy Games', '(2019)', '5.1', None, '616', '90 min', 'Comedy'),\n",
       " ('Dark Waters',\n",
       "  '(2019)',\n",
       "  '7.6',\n",
       "  None,\n",
       "  '52,868',\n",
       "  '126 min',\n",
       "  'Biography, Drama, History'),\n",
       " ('Ford v Ferrari',\n",
       "  '(2019)',\n",
       "  '8.1',\n",
       "  None,\n",
       "  '275,141',\n",
       "  '152 min',\n",
       "  'Action, Biography, Drama'),\n",
       " ('Watchmen',\n",
       "  '(2019)',\n",
       "  '8.1',\n",
       "  None,\n",
       "  '86,069',\n",
       "  '527 min',\n",
       "  'Action, Drama, Mystery'),\n",
       " ('Doom Patrol',\n",
       "  '(2019– )',\n",
       "  '7.9',\n",
       "  None,\n",
       "  '32,334',\n",
       "  '60 min',\n",
       "  'Action, Adventure, Comedy'),\n",
       " ('What We Do in the Shadows',\n",
       "  '(2019– )',\n",
       "  '8.5',\n",
       "  None,\n",
       "  '33,398',\n",
       "  '30 min',\n",
       "  'Comedy, Fantasy, Horror'),\n",
       " ('Motherless Brooklyn',\n",
       "  '(2019)',\n",
       "  '6.8',\n",
       "  '60        ',\n",
       "  '39,668',\n",
       "  '144 min',\n",
       "  'Crime, Drama, Mystery'),\n",
       " ('Terminator: Dark Fate',\n",
       "  '(2019)',\n",
       "  '6.2',\n",
       "  '54        ',\n",
       "  '144,382',\n",
       "  '128 min',\n",
       "  'Action, Adventure, Sci-Fi'),\n",
       " ('Jumanji: The Next Level',\n",
       "  '(2019)',\n",
       "  '6.7',\n",
       "  '58        ',\n",
       "  '179,896',\n",
       "  '123 min',\n",
       "  'Action, Adventure, Comedy'),\n",
       " ('The Peanut Butter Falcon',\n",
       "  '(2019)',\n",
       "  '7.6',\n",
       "  None,\n",
       "  '60,778',\n",
       "  '97 min',\n",
       "  'Adventure, Comedy, Drama'),\n",
       " ('See', '(2019– )', '7.6', None, '39,008', '60 min', 'Action, Drama, Sci-Fi'),\n",
       " ('Glass',\n",
       "  '(2019)',\n",
       "  '6.7',\n",
       "  '43        ',\n",
       "  '203,303',\n",
       "  '129 min',\n",
       "  'Drama, Sci-Fi, Thriller'),\n",
       " ('To the Lake',\n",
       "  '(I) (2019)',\n",
       "  '7.3',\n",
       "  None,\n",
       "  '6,777',\n",
       "  None,\n",
       "  'Drama, Sci-Fi, Thriller'),\n",
       " ('Last Christmas',\n",
       "  '(2019)',\n",
       "  '6.5',\n",
       "  '50        ',\n",
       "  '42,160',\n",
       "  '103 min',\n",
       "  'Comedy, Drama, Romance'),\n",
       " ('The King',\n",
       "  '(I) (2019)',\n",
       "  '7.2',\n",
       "  None,\n",
       "  '84,415',\n",
       "  '140 min',\n",
       "  'Biography, Drama, History'),\n",
       " ('The Lion King',\n",
       "  '(2019)',\n",
       "  '6.9',\n",
       "  '55        ',\n",
       "  '205,579',\n",
       "  '118 min',\n",
       "  'Animation, Adventure, Drama'),\n",
       " ('Pennyworth',\n",
       "  '(2019– )',\n",
       "  '8.0',\n",
       "  None,\n",
       "  '7,714',\n",
       "  '60 min',\n",
       "  'Action, Crime, Drama'),\n",
       " ('All Rise', '(2019– )', '6.7', None, '2,890', '44 min', 'Drama'),\n",
       " ('Carnival Row',\n",
       "  '(2019– )',\n",
       "  '7.9',\n",
       "  None,\n",
       "  '43,698',\n",
       "  '56 min',\n",
       "  'Crime, Drama, Fantasy'),\n",
       " ('Polar',\n",
       "  '(I) (2019)',\n",
       "  '6.3',\n",
       "  None,\n",
       "  '73,331',\n",
       "  '118 min',\n",
       "  'Action, Crime, Drama'),\n",
       " ('Radioactive',\n",
       "  '(2019)',\n",
       "  '6.2',\n",
       "  '56        ',\n",
       "  '7,080',\n",
       "  '109 min',\n",
       "  'Biography, Drama, Romance'),\n",
       " ('It Chapter Two',\n",
       "  '(2019)',\n",
       "  '6.5',\n",
       "  '58        ',\n",
       "  '202,098',\n",
       "  '169 min',\n",
       "  'Drama, Fantasy, Horror'),\n",
       " ('Midway',\n",
       "  '(2019)',\n",
       "  '6.7',\n",
       "  '47        ',\n",
       "  '62,784',\n",
       "  '138 min',\n",
       "  'Action, Adventure, Drama'),\n",
       " ('Spider-Man: Far from Home',\n",
       "  '(2019)',\n",
       "  '7.5',\n",
       "  None,\n",
       "  '314,218',\n",
       "  '129 min',\n",
       "  'Action, Adventure, Sci-Fi'),\n",
       " ('The Informer',\n",
       "  '(2019)',\n",
       "  '6.6',\n",
       "  None,\n",
       "  '18,698',\n",
       "  '113 min',\n",
       "  'Crime, Drama, Thriller'),\n",
       " ('6 Underground',\n",
       "  '(2019)',\n",
       "  '6.1',\n",
       "  '41        ',\n",
       "  '134,534',\n",
       "  '128 min',\n",
       "  'Action, Thriller'),\n",
       " ('Richard Jewell',\n",
       "  '(2019)',\n",
       "  '7.5',\n",
       "  None,\n",
       "  '55,599',\n",
       "  '131 min',\n",
       "  'Biography, Crime, Drama'),\n",
       " ('Klaus',\n",
       "  '(2019)',\n",
       "  '8.2',\n",
       "  None,\n",
       "  '80,415',\n",
       "  '96 min',\n",
       "  'Animation, Adventure, Comedy'),\n",
       " ('Yes, God, Yes', '(2019)', '6.1', None, '6,289', '78 min', 'Comedy, Drama'),\n",
       " ('A Beautiful Day in the Neighborhood',\n",
       "  '(2019)',\n",
       "  '7.3',\n",
       "  None,\n",
       "  '56,296',\n",
       "  '109 min',\n",
       "  'Biography, Drama'),\n",
       " ('Portrait of a Lady on Fire',\n",
       "  '(2019)',\n",
       "  '8.1',\n",
       "  None,\n",
       "  '56,947',\n",
       "  '122 min',\n",
       "  'Drama, Romance'),\n",
       " ('Another Life',\n",
       "  '(2019– )',\n",
       "  '5.0',\n",
       "  None,\n",
       "  '23,865',\n",
       "  '43 min',\n",
       "  'Adventure, Drama, Mystery'),\n",
       " ('Captain Marvel',\n",
       "  '(2019)',\n",
       "  '6.9',\n",
       "  None,\n",
       "  '431,019',\n",
       "  '123 min',\n",
       "  'Action, Adventure, Sci-Fi'),\n",
       " ('Prodigal Son',\n",
       "  '(2019– )',\n",
       "  '7.7',\n",
       "  None,\n",
       "  '10,905',\n",
       "  '44 min',\n",
       "  'Crime, Drama, Mystery'),\n",
       " ('Rocketman',\n",
       "  '(I) (2019)',\n",
       "  '7.3',\n",
       "  None,\n",
       "  '130,277',\n",
       "  '121 min',\n",
       "  'Biography, Drama, Music'),\n",
       " ('Demon Slayer: Kimetsu No Yaiba',\n",
       "  '(2019– )',\n",
       "  '8.7',\n",
       "  None,\n",
       "  '20,305',\n",
       "  '25 min',\n",
       "  'Animation, Action, Fantasy'),\n",
       " ('John Wick: Chapter 3 - Parabellum',\n",
       "  '(2019)',\n",
       "  '7.4',\n",
       "  None,\n",
       "  '267,082',\n",
       "  '130 min',\n",
       "  'Action, Crime, Thriller'),\n",
       " ('Us',\n",
       "  '(II) (2019)',\n",
       "  '6.9',\n",
       "  None,\n",
       "  '219,227',\n",
       "  '116 min',\n",
       "  'Horror, Mystery, Thriller'),\n",
       " ('Alita: Battle Angel',\n",
       "  '(2019)',\n",
       "  '7.3',\n",
       "  '53        ',\n",
       "  '223,376',\n",
       "  '122 min',\n",
       "  'Action, Adventure, Sci-Fi'),\n",
       " ('Hustlers',\n",
       "  '(2019)',\n",
       "  '6.3',\n",
       "  None,\n",
       "  '80,983',\n",
       "  '110 min',\n",
       "  'Comedy, Crime, Drama'),\n",
       " ('Dead to Me', '(2019– )', '8.0', None, '52,057', '30 min', 'Comedy, Drama'),\n",
       " ('Frozen II',\n",
       "  '(2019)',\n",
       "  '6.9',\n",
       "  None,\n",
       "  '130,069',\n",
       "  '103 min',\n",
       "  'Animation, Adventure, Comedy'),\n",
       " ('Sound of Metal', '(2019)', '7.3', None, '603', '120 min', 'Drama, Music'),\n",
       " ('Aladdin',\n",
       "  '(2019)',\n",
       "  '7.0',\n",
       "  '53        ',\n",
       "  '221,903',\n",
       "  '128 min',\n",
       "  'Adventure, Family, Fantasy'),\n",
       " ('The Order',\n",
       "  '(2019–2020)',\n",
       "  '6.8',\n",
       "  None,\n",
       "  '19,263',\n",
       "  '60 min',\n",
       "  'Drama, Fantasy, Horror'),\n",
       " ('Ready or Not',\n",
       "  '(I) (2019)',\n",
       "  '6.8',\n",
       "  None,\n",
       "  '105,163',\n",
       "  '95 min',\n",
       "  'Comedy, Horror, Mystery'),\n",
       " (\"Charlie's Angels\",\n",
       "  '(2019)',\n",
       "  '4.8',\n",
       "  '52        ',\n",
       "  '54,379',\n",
       "  '118 min',\n",
       "  'Action, Adventure, Comedy'),\n",
       " ('The Last Vermeer',\n",
       "  '(2019)',\n",
       "  '6.6',\n",
       "  '56        ',\n",
       "  '232',\n",
       "  '118 min',\n",
       "  'Drama'),\n",
       " ('Marriage Story',\n",
       "  '(2019)',\n",
       "  '8.0',\n",
       "  None,\n",
       "  '237,373',\n",
       "  '137 min',\n",
       "  'Comedy, Drama, Romance'),\n",
       " ('The Platform',\n",
       "  '(2019)',\n",
       "  '7.0',\n",
       "  None,\n",
       "  '155,661',\n",
       "  '94 min',\n",
       "  'Horror, Sci-Fi, Thriller'),\n",
       " ('Unbelievable', '(2019)', '8.4', None, '67,345', '385 min', 'Crime, Drama'),\n",
       " ('Hanna', '(2019– )', '7.5', None, '24,854', '60 min', 'Action, Drama'),\n",
       " ('Fast & Furious Presents: Hobbs & Shaw',\n",
       "  '(2019)',\n",
       "  '6.4',\n",
       "  '60        ',\n",
       "  '162,903',\n",
       "  '137 min',\n",
       "  'Action, Adventure, Thriller'),\n",
       " ('Gemini Man',\n",
       "  '(2019)',\n",
       "  '5.7',\n",
       "  None,\n",
       "  '82,459',\n",
       "  '117 min',\n",
       "  'Action, Drama, Sci-Fi'),\n",
       " ('Swamp Thing',\n",
       "  '(2019)',\n",
       "  '7.6',\n",
       "  None,\n",
       "  '19,146',\n",
       "  '60 min',\n",
       "  'Action, Adventure, Drama'),\n",
       " ('Shazam!',\n",
       "  '(2019)',\n",
       "  '7.1',\n",
       "  None,\n",
       "  '247,472',\n",
       "  '132 min',\n",
       "  'Action, Adventure, Comedy'),\n",
       " ('Iron Mask',\n",
       "  '(2019)',\n",
       "  '4.7',\n",
       "  None,\n",
       "  '3,159',\n",
       "  '120 min',\n",
       "  'Action, Adventure, Family'),\n",
       " ('Ad Astra',\n",
       "  '(2019)',\n",
       "  '6.5',\n",
       "  None,\n",
       "  '192,707',\n",
       "  '123 min',\n",
       "  'Adventure, Drama, Mystery'),\n",
       " ('DNA',\n",
       "  '(I) (2019– )',\n",
       "  '7.3',\n",
       "  None,\n",
       "  '1,550',\n",
       "  '321 min',\n",
       "  'Crime, Drama, Mystery'),\n",
       " ('A Rainy Day in New York',\n",
       "  '(2019)',\n",
       "  '6.5',\n",
       "  None,\n",
       "  '28,077',\n",
       "  '92 min',\n",
       "  'Comedy, Romance'),\n",
       " ('X-Men: Dark Phoenix',\n",
       "  '(2019)',\n",
       "  '5.8',\n",
       "  '43        ',\n",
       "  '151,189',\n",
       "  '113 min',\n",
       "  'Action, Adventure, Sci-Fi'),\n",
       " ('21 Bridges',\n",
       "  '(2019)',\n",
       "  '6.6',\n",
       "  '51        ',\n",
       "  '45,762',\n",
       "  '99 min',"
      ]
     },
     "execution_count": 9,
     "metadata": {},
     "output_type": "execute_result"
    },
    {
     "data": {
      "text/html": [
       "<b>limit_output extension: Maximum message size of 10000 exceeded with 10137 characters</b>"
      ]
     },
     "metadata": {},
     "output_type": "display_data"
    }
   ],
   "source": [
    "#first for was used to move / navigate page from 1st page until the 2000th movie\n",
    "#example next page https://www.imdb.com/search/title/?release_date=2019-01-01,2019-12-31&start=51&ref_=adv_nxt\n",
    "for page in pages:\n",
    "    page = requests.get('https://www.imdb.com/search/title/?release_date=2019-01-01,2019-12-31&start='+str(page)+'&ref_=adv_nxt',headers=headers)\n",
    "    \n",
    "    soup = BeautifulSoup(page.text,'html.parser')\n",
    "    movie_div = soup.find_all('div', class_='lister-item mode-advanced')\n",
    "\n",
    "    #second loop was used for scrapping data for each page, we will take some variables such as   \n",
    "    #title, year, duration, IMDb rating, metascore  \n",
    "    \n",
    "    for row in movie_div:\n",
    "        #title movie \n",
    "        title = row.find(class_=\"lister-item-header\").find('a', href=True).text\n",
    "        \n",
    "        #year\n",
    "        year = row.find(class_=\"lister-item-year text-muted unbold\").text\n",
    "        \n",
    "        #imdb rating\n",
    "        if row.find(class_=\"inline-block ratings-imdb-rating\") is None:\n",
    "           imdb = row.find(class_=\"inline-block ratings-imdb-rating\").find('strong')\n",
    "        else:\n",
    "           imdb = row.find(class_=\"inline-block ratings-imdb-rating\").find('strong').text\n",
    "        #metascore, use if else due to we have null value for several movie\n",
    "        if row.find(class_=\"metascore mixed\") is None:\n",
    "           meta = row.find(class_=\"metascore mixed\") \n",
    "        else:\n",
    "           meta = row.find(class_=\"metascore mixed\").text  \n",
    "    \n",
    "        #votes\n",
    "        votes = row.find(class_=\"sort-num_votes-visible\").text.split()[1]\n",
    "        \n",
    "        #duration, because some movie also don't have duration\n",
    "        if row.find('p', class_=\"text-muted\").find(class_=\"runtime\") is None:\n",
    "           duration = row.find('p', class_=\"text-muted\").find(class_=\"runtime\")\n",
    "        else:\n",
    "           duration = row.find('p', class_=\"text-muted\").find(class_=\"runtime\").text\n",
    "        \n",
    "        #genre\n",
    "        genre = row.find(class_=\"genre\").text.strip()\n",
    "        \n",
    "        #temp variable used for collect all variables result of scrapping\n",
    "        temp.append((title,year,imdb,meta,votes,duration, genre))\n",
    "temp"
   ]
  },
  {
   "cell_type": "code",
   "execution_count": 10,
   "metadata": {
    "scrolled": false
   },
   "outputs": [
    {
     "data": {
      "text/plain": [
       "(100, 7)"
      ]
     },
     "execution_count": 10,
     "metadata": {},
     "output_type": "execute_result"
    }
   ],
   "source": [
    "#set temp variables above to be dataframe structure using pandas library\n",
    "data = pd.DataFrame(temp, columns=('title','year','imdb','meta','votes','duration','genre'))\n",
    "\n",
    "#we have 100 list movie that successfully scraped \n",
    "data.shape\n",
    "#display(HTML(data.to_html()))"
   ]
  },
  {
   "cell_type": "code",
   "execution_count": 11,
   "metadata": {
    "scrolled": true
   },
   "outputs": [
    {
     "data": {
      "text/plain": [
       "title       object\n",
       "year        object\n",
       "imdb        object\n",
       "meta        object\n",
       "votes       object\n",
       "duration    object\n",
       "genre       object\n",
       "dtype: object"
      ]
     },
     "execution_count": 11,
     "metadata": {},
     "output_type": "execute_result"
    }
   ],
   "source": [
    "data.dtypes\n",
    "#need to change type of data due to all data type was object"
   ]
  },
  {
   "cell_type": "code",
   "execution_count": 12,
   "metadata": {},
   "outputs": [],
   "source": [
    "#modify data type\n",
    "data['duration']= data['duration'].str.replace(\" min\",\"\")\n",
    "data['rank_popularity']=range(1,len(data)+1)\n",
    "data['imdb']=data['imdb'].astype('float64')\n",
    "data['votes']=data['votes'].str.replace(\",\",\"\").astype('int64')\n",
    "data['duration'] = data['duration'].fillna(0).astype('int64')\n",
    "data['meta'] = data['meta'].fillna(0).astype('int64')"
   ]
  },
  {
   "cell_type": "code",
   "execution_count": 13,
   "metadata": {
    "scrolled": false
   },
   "outputs": [
    {
     "data": {
      "text/plain": [
       "title               object\n",
       "year                object\n",
       "imdb               float64\n",
       "meta                 int64\n",
       "votes                int64\n",
       "duration             int64\n",
       "genre               object\n",
       "rank_popularity      int64\n",
       "dtype: object"
      ]
     },
     "execution_count": 13,
     "metadata": {},
     "output_type": "execute_result"
    }
   ],
   "source": [
    "data.dtypes\n",
    "#some of data already change "
   ]
  },
  {
   "cell_type": "code",
   "execution_count": 14,
   "metadata": {},
   "outputs": [
    {
     "data": {
      "text/html": [
       "<div>\n",
       "<style scoped>\n",
       "    .dataframe tbody tr th:only-of-type {\n",
       "        vertical-align: middle;\n",
       "    }\n",
       "\n",
       "    .dataframe tbody tr th {\n",
       "        vertical-align: top;\n",
       "    }\n",
       "\n",
       "    .dataframe thead th {\n",
       "        text-align: right;\n",
       "    }\n",
       "</style>\n",
       "<table border=\"1\" class=\"dataframe\">\n",
       "  <thead>\n",
       "    <tr style=\"text-align: right;\">\n",
       "      <th></th>\n",
       "      <th>0</th>\n",
       "      <th>1</th>\n",
       "      <th>2</th>\n",
       "    </tr>\n",
       "  </thead>\n",
       "  <tbody>\n",
       "    <tr>\n",
       "      <th>0</th>\n",
       "      <td>Action</td>\n",
       "      <td>Adventure</td>\n",
       "      <td>Sci-Fi</td>\n",
       "    </tr>\n",
       "    <tr>\n",
       "      <th>1</th>\n",
       "      <td>Adventure</td>\n",
       "      <td>Drama</td>\n",
       "      <td>Family</td>\n",
       "    </tr>\n",
       "    <tr>\n",
       "      <th>2</th>\n",
       "      <td>Action</td>\n",
       "      <td>Comedy</td>\n",
       "      <td>Crime</td>\n",
       "    </tr>\n",
       "    <tr>\n",
       "      <th>3</th>\n",
       "      <td>Drama</td>\n",
       "      <td>Thriller</td>\n",
       "      <td>None</td>\n",
       "    </tr>\n",
       "    <tr>\n",
       "      <th>4</th>\n",
       "      <td>Comedy</td>\n",
       "      <td>Drama</td>\n",
       "      <td>War</td>\n",
       "    </tr>\n",
       "    <tr>\n",
       "      <th>...</th>\n",
       "      <td>...</td>\n",
       "      <td>...</td>\n",
       "      <td>...</td>\n",
       "    </tr>\n",
       "    <tr>\n",
       "      <th>95</th>\n",
       "      <td>Crime</td>\n",
       "      <td>Drama</td>\n",
       "      <td>Mystery</td>\n",
       "    </tr>\n",
       "    <tr>\n",
       "      <th>96</th>\n",
       "      <td>Comedy</td>\n",
       "      <td>Romance</td>\n",
       "      <td>None</td>\n",
       "    </tr>\n",
       "    <tr>\n",
       "      <th>97</th>\n",
       "      <td>Action</td>\n",
       "      <td>Adventure</td>\n",
       "      <td>Sci-Fi</td>\n",
       "    </tr>\n",
       "    <tr>\n",
       "      <th>98</th>\n",
       "      <td>Action</td>\n",
       "      <td>Crime</td>\n",
       "      <td>Thriller</td>\n",
       "    </tr>\n",
       "    <tr>\n",
       "      <th>99</th>\n",
       "      <td>Animation</td>\n",
       "      <td>Adventure</td>\n",
       "      <td>Comedy</td>\n",
       "    </tr>\n",
       "  </tbody>\n",
       "</table>\n",
       "<p>100 rows × 3 columns</p>\n",
       "</div>"
      ],
      "text/plain": [
       "            0          1         2\n",
       "0      Action  Adventure    Sci-Fi\n",
       "1   Adventure      Drama    Family\n",
       "2      Action     Comedy     Crime\n",
       "3       Drama   Thriller      None\n",
       "4      Comedy      Drama       War\n",
       "..        ...        ...       ...\n",
       "95      Crime      Drama   Mystery\n",
       "96     Comedy    Romance      None\n",
       "97     Action  Adventure    Sci-Fi\n",
       "98     Action      Crime  Thriller\n",
       "99  Animation  Adventure    Comedy\n",
       "\n",
       "[100 rows x 3 columns]"
      ]
     },
     "execution_count": 14,
     "metadata": {},
     "output_type": "execute_result"
    }
   ],
   "source": [
    "#split types of genre to each column (breakdown to 3 columns)\n",
    "genre = data['genre'].str.split(', ',3,expand=True)\n",
    "genre"
   ]
  },
  {
   "cell_type": "code",
   "execution_count": 15,
   "metadata": {},
   "outputs": [],
   "source": [
    "#for assign each genre to genre 1, genre 2 and genre 3\n",
    "data['genre_1']=genre[0]\n",
    "data['genre_2']=genre[1]\n",
    "data['genre_3']=genre[2]"
   ]
  },
  {
   "cell_type": "code",
   "execution_count": 16,
   "metadata": {},
   "outputs": [],
   "source": [
    "#conditional function if one of column from genre 1-3 consist this type of genres\n",
    "action = (data['genre_1']==\"Action\") | (data['genre_2']==\"Action\") | (data['genre_3']==\"Action\")\n",
    "drama = (data['genre_1']==\"Drama\") | (data['genre_2']==\"Drama\") | (data['genre_3']==\"Drama\")\n",
    "thriller = (data['genre_1']==\"Thriller\") | (data['genre_2']==\"Thriller\") | (data['genre_3']==\"Thriller\")"
   ]
  },
  {
   "cell_type": "code",
   "execution_count": 17,
   "metadata": {},
   "outputs": [],
   "source": [
    "#create new columns based on thise conditional\n",
    "data['Action'] = np.where(action,'Yes','No')\n",
    "data['Drama'] = np.where(drama,'Yes','No')\n",
    "data['Thriller'] = np.where(thriller,'Yes','No')"
   ]
  },
  {
   "cell_type": "code",
   "execution_count": 18,
   "metadata": {
    "scrolled": true
   },
   "outputs": [
    {
     "data": {
      "text/html": [
       "<div>\n",
       "<style scoped>\n",
       "    .dataframe tbody tr th:only-of-type {\n",
       "        vertical-align: middle;\n",
       "    }\n",
       "\n",
       "    .dataframe tbody tr th {\n",
       "        vertical-align: top;\n",
       "    }\n",
       "\n",
       "    .dataframe thead th {\n",
       "        text-align: right;\n",
       "    }\n",
       "</style>\n",
       "<table border=\"1\" class=\"dataframe\">\n",
       "  <thead>\n",
       "    <tr style=\"text-align: right;\">\n",
       "      <th></th>\n",
       "      <th>title</th>\n",
       "      <th>year</th>\n",
       "      <th>imdb</th>\n",
       "      <th>meta</th>\n",
       "      <th>votes</th>\n",
       "      <th>duration</th>\n",
       "      <th>genre</th>\n",
       "      <th>rank_popularity</th>\n",
       "      <th>genre_1</th>\n",
       "      <th>genre_2</th>\n",
       "      <th>genre_3</th>\n",
       "      <th>Action</th>\n",
       "      <th>Drama</th>\n",
       "      <th>Thriller</th>\n",
       "    </tr>\n",
       "  </thead>\n",
       "  <tbody>\n",
       "    <tr>\n",
       "      <th>0</th>\n",
       "      <td>The Mandalorian</td>\n",
       "      <td>(2019– )</td>\n",
       "      <td>8.7</td>\n",
       "      <td>0</td>\n",
       "      <td>220069</td>\n",
       "      <td>40</td>\n",
       "      <td>Action, Adventure, Sci-Fi</td>\n",
       "      <td>1</td>\n",
       "      <td>Action</td>\n",
       "      <td>Adventure</td>\n",
       "      <td>Sci-Fi</td>\n",
       "      <td>Yes</td>\n",
       "      <td>No</td>\n",
       "      <td>No</td>\n",
       "    </tr>\n",
       "    <tr>\n",
       "      <th>1</th>\n",
       "      <td>His Dark Materials</td>\n",
       "      <td>(2019– )</td>\n",
       "      <td>7.9</td>\n",
       "      <td>0</td>\n",
       "      <td>42239</td>\n",
       "      <td>60</td>\n",
       "      <td>Adventure, Drama, Family</td>\n",
       "      <td>2</td>\n",
       "      <td>Adventure</td>\n",
       "      <td>Drama</td>\n",
       "      <td>Family</td>\n",
       "      <td>No</td>\n",
       "      <td>Yes</td>\n",
       "      <td>No</td>\n",
       "    </tr>\n",
       "    <tr>\n",
       "      <th>2</th>\n",
       "      <td>The Boys</td>\n",
       "      <td>(2019– )</td>\n",
       "      <td>8.7</td>\n",
       "      <td>0</td>\n",
       "      <td>218061</td>\n",
       "      <td>60</td>\n",
       "      <td>Action, Comedy, Crime</td>\n",
       "      <td>3</td>\n",
       "      <td>Action</td>\n",
       "      <td>Comedy</td>\n",
       "      <td>Crime</td>\n",
       "      <td>Yes</td>\n",
       "      <td>No</td>\n",
       "      <td>No</td>\n",
       "    </tr>\n",
       "    <tr>\n",
       "      <th>3</th>\n",
       "      <td>Dreamland</td>\n",
       "      <td>(I) (2019)</td>\n",
       "      <td>5.7</td>\n",
       "      <td>57</td>\n",
       "      <td>1234</td>\n",
       "      <td>98</td>\n",
       "      <td>Drama, Thriller</td>\n",
       "      <td>4</td>\n",
       "      <td>Drama</td>\n",
       "      <td>Thriller</td>\n",
       "      <td>None</td>\n",
       "      <td>No</td>\n",
       "      <td>Yes</td>\n",
       "      <td>Yes</td>\n",
       "    </tr>\n",
       "    <tr>\n",
       "      <th>4</th>\n",
       "      <td>Jojo Rabbit</td>\n",
       "      <td>(2019)</td>\n",
       "      <td>7.9</td>\n",
       "      <td>58</td>\n",
       "      <td>278348</td>\n",
       "      <td>108</td>\n",
       "      <td>Comedy, Drama, War</td>\n",
       "      <td>5</td>\n",
       "      <td>Comedy</td>\n",
       "      <td>Drama</td>\n",
       "      <td>War</td>\n",
       "      <td>No</td>\n",
       "      <td>Yes</td>\n",
       "      <td>No</td>\n",
       "    </tr>\n",
       "    <tr>\n",
       "      <th>5</th>\n",
       "      <td>Servant</td>\n",
       "      <td>(2019– )</td>\n",
       "      <td>7.6</td>\n",
       "      <td>0</td>\n",
       "      <td>15900</td>\n",
       "      <td>30</td>\n",
       "      <td>Drama, Horror, Thriller</td>\n",
       "      <td>6</td>\n",
       "      <td>Drama</td>\n",
       "      <td>Horror</td>\n",
       "      <td>Thriller</td>\n",
       "      <td>No</td>\n",
       "      <td>Yes</td>\n",
       "      <td>Yes</td>\n",
       "    </tr>\n",
       "    <tr>\n",
       "      <th>6</th>\n",
       "      <td>Wayne</td>\n",
       "      <td>(2019)</td>\n",
       "      <td>8.4</td>\n",
       "      <td>0</td>\n",
       "      <td>8550</td>\n",
       "      <td>30</td>\n",
       "      <td>Action, Comedy</td>\n",
       "      <td>7</td>\n",
       "      <td>Action</td>\n",
       "      <td>Comedy</td>\n",
       "      <td>None</td>\n",
       "      <td>Yes</td>\n",
       "      <td>No</td>\n",
       "      <td>No</td>\n",
       "    </tr>\n",
       "    <tr>\n",
       "      <th>7</th>\n",
       "      <td>The Gentlemen</td>\n",
       "      <td>(2019)</td>\n",
       "      <td>7.8</td>\n",
       "      <td>51</td>\n",
       "      <td>207942</td>\n",
       "      <td>113</td>\n",
       "      <td>Action, Comedy, Crime</td>\n",
       "      <td>8</td>\n",
       "      <td>Action</td>\n",
       "      <td>Comedy</td>\n",
       "      <td>Crime</td>\n",
       "      <td>Yes</td>\n",
       "      <td>No</td>\n",
       "      <td>No</td>\n",
       "    </tr>\n",
       "    <tr>\n",
       "      <th>8</th>\n",
       "      <td>Undercover</td>\n",
       "      <td>(2019– )</td>\n",
       "      <td>7.9</td>\n",
       "      <td>0</td>\n",
       "      <td>9474</td>\n",
       "      <td>50</td>\n",
       "      <td>Crime, Drama, Thriller</td>\n",
       "      <td>9</td>\n",
       "      <td>Crime</td>\n",
       "      <td>Drama</td>\n",
       "      <td>Thriller</td>\n",
       "      <td>No</td>\n",
       "      <td>Yes</td>\n",
       "      <td>Yes</td>\n",
       "    </tr>\n",
       "    <tr>\n",
       "      <th>9</th>\n",
       "      <td>The Witcher</td>\n",
       "      <td>(2019– )</td>\n",
       "      <td>8.2</td>\n",
       "      <td>0</td>\n",
       "      <td>282786</td>\n",
       "      <td>60</td>\n",
       "      <td>Action, Adventure, Fantasy</td>\n",
       "      <td>10</td>\n",
       "      <td>Action</td>\n",
       "      <td>Adventure</td>\n",
       "      <td>Fantasy</td>\n",
       "      <td>Yes</td>\n",
       "      <td>No</td>\n",
       "      <td>No</td>\n",
       "    </tr>\n",
       "  </tbody>\n",
       "</table>\n",
       "</div>"
      ],
      "text/plain": [
       "                title        year  imdb  meta   votes  duration  \\\n",
       "0     The Mandalorian    (2019– )   8.7     0  220069        40   \n",
       "1  His Dark Materials    (2019– )   7.9     0   42239        60   \n",
       "2            The Boys    (2019– )   8.7     0  218061        60   \n",
       "3           Dreamland  (I) (2019)   5.7    57    1234        98   \n",
       "4         Jojo Rabbit      (2019)   7.9    58  278348       108   \n",
       "5             Servant    (2019– )   7.6     0   15900        30   \n",
       "6               Wayne      (2019)   8.4     0    8550        30   \n",
       "7       The Gentlemen      (2019)   7.8    51  207942       113   \n",
       "8          Undercover    (2019– )   7.9     0    9474        50   \n",
       "9         The Witcher    (2019– )   8.2     0  282786        60   \n",
       "\n",
       "                        genre  rank_popularity    genre_1    genre_2  \\\n",
       "0   Action, Adventure, Sci-Fi                1     Action  Adventure   \n",
       "1    Adventure, Drama, Family                2  Adventure      Drama   \n",
       "2       Action, Comedy, Crime                3     Action     Comedy   \n",
       "3             Drama, Thriller                4      Drama   Thriller   \n",
       "4          Comedy, Drama, War                5     Comedy      Drama   \n",
       "5     Drama, Horror, Thriller                6      Drama     Horror   \n",
       "6              Action, Comedy                7     Action     Comedy   \n",
       "7       Action, Comedy, Crime                8     Action     Comedy   \n",
       "8      Crime, Drama, Thriller                9      Crime      Drama   \n",
       "9  Action, Adventure, Fantasy               10     Action  Adventure   \n",
       "\n",
       "    genre_3 Action Drama Thriller  \n",
       "0    Sci-Fi    Yes    No       No  \n",
       "1    Family     No   Yes       No  \n",
       "2     Crime    Yes    No       No  \n",
       "3      None     No   Yes      Yes  \n",
       "4       War     No   Yes       No  \n",
       "5  Thriller     No   Yes      Yes  \n",
       "6      None    Yes    No       No  \n",
       "7     Crime    Yes    No       No  \n",
       "8  Thriller     No   Yes      Yes  \n",
       "9   Fantasy    Yes    No       No  "
      ]
     },
     "execution_count": 18,
     "metadata": {},
     "output_type": "execute_result"
    }
   ],
   "source": [
    "#check new dataframe\n",
    "data.head(10)"
   ]
  },
  {
   "cell_type": "markdown",
   "metadata": {},
   "source": [
    "Analysis some relation for imdb rating with votes and movie duration"
   ]
  },
  {
   "cell_type": "code",
   "execution_count": 19,
   "metadata": {
    "scrolled": true
   },
   "outputs": [
    {
     "data": {
      "text/plain": [
       "[<matplotlib.lines.Line2D at 0x11cf09040>]"
      ]
     },
     "execution_count": 19,
     "metadata": {},
     "output_type": "execute_result"
    },
    {
     "data": {
      "image/png": "[encoded data removed]",
      "text/plain": [
       "<Figure size 576x360 with 1 Axes>"
      ]
     },
     "metadata": {
      "needs_background": "light"
     },
     "output_type": "display_data"
    }
   ],
   "source": [
    "#create plot relation between votes and imdb rating\n",
    "\n",
    "fig_dims = (8, 5)\n",
    "fig, ax = plt.subplots(figsize=fig_dims)\n",
    "m, b = np.polyfit(data['votes'],data['imdb'],1)\n",
    "sns.scatterplot(data=data, x='votes', y='imdb',s=80, ax=ax, color='green')\n",
    "plt.plot(data['votes'],m*data['votes']+b)"
   ]
  },
  {
   "cell_type": "markdown",
   "metadata": {},
   "source": [
    "Relation between votes imdb slightly show some relation that higher votes will impact with IMDb Rating"
   ]
  },
  {
   "cell_type": "code",
   "execution_count": 20,
   "metadata": {
    "scrolled": false
   },
   "outputs": [
    {
     "data": {
      "text/plain": [
       "[<matplotlib.lines.Line2D at 0x11d007a30>]"
      ]
     },
     "execution_count": 20,
     "metadata": {},
     "output_type": "execute_result"
    },
    {
     "data": {
      "image/png": "[encoded data removed]",
      "text/plain": [
       "<Figure size 576x360 with 1 Axes>"
      ]
     },
     "metadata": {
      "needs_background": "light"
     },
     "output_type": "display_data"
    }
   ],
   "source": [
    "#create plot relation between votes and rank popularity\n",
    "\n",
    "fig_dims = (8, 5)\n",
    "fig, ax = plt.subplots(figsize=fig_dims)\n",
    "m, b = np.polyfit(data['rank_popularity'],data['votes'],1)\n",
    "sns.scatterplot(data=data, x='rank_popularity', y='votes',s=80, ax=ax, color='green')\n",
    "plt.plot(data['rank_popularity'],m*data['rank_popularity']+b)"
   ]
  },
  {
   "cell_type": "markdown",
   "metadata": {},
   "source": [
    "Based on rank popularity and total votes, it also reflect little bit relation that higher votes will bring up movie popularity"
   ]
  },
  {
   "cell_type": "code",
   "execution_count": 21,
   "metadata": {},
   "outputs": [
    {
     "data": {
      "text/plain": [
       "[<matplotlib.lines.Line2D at 0x11d0b4f70>]"
      ]
     },
     "execution_count": 21,
     "metadata": {},
     "output_type": "execute_result"
    },
    {
     "data": {
      "image/png": "[encoded data removed]",
      "text/plain": [
       "<Figure size 576x360 with 1 Axes>"
      ]
     },
     "metadata": {
      "needs_background": "light"
     },
     "output_type": "display_data"
    }
   ],
   "source": [
    "#create plot relation between rank of popularity and imdb rating\n",
    "\n",
    "fig_dims = (8, 5)\n",
    "fig, ax = plt.subplots(figsize=fig_dims)\n",
    "m, b = np.polyfit(data['rank_popularity'],data['imdb'],1)\n",
    "sns.scatterplot(data=data, x='rank_popularity', y='imdb',s=80, ax=ax, color='green')\n",
    "plt.plot(data['rank_popularity'],m*data['rank_popularity']+b)"
   ]
  },
  {
   "cell_type": "markdown",
   "metadata": {},
   "source": [
    "Then if we sort based on rank popularity from IMDb, it also reflect little bit relation that higher IMDb rating will bring up movie popularity"
   ]
  },
  {
   "cell_type": "code",
   "execution_count": 22,
   "metadata": {
    "scrolled": true
   },
   "outputs": [
    {
     "data": {
      "text/plain": [
       "[<matplotlib.lines.Line2D at 0x11d13f250>]"
      ]
     },
     "execution_count": 22,
     "metadata": {},
     "output_type": "execute_result"
    },
    {
     "data": {
      "image/png": "[encoded data removed]",
      "text/plain": [
       "<Figure size 576x360 with 1 Axes>"
      ]
     },
     "metadata": {
      "needs_background": "light"
     },
     "output_type": "display_data"
    }
   ],
   "source": [
    "#create plot relation between duration and rank of popularity\n",
    "\n",
    "fig_dims = (8, 5)\n",
    "fig, ax = plt.subplots(figsize=fig_dims)\n",
    "m, b = np.polyfit(data['rank_popularity'],data['duration'],1)\n",
    "sns.scatterplot(data=data, x='rank_popularity', y='duration',s=80, ax=ax, color='green')\n",
    "plt.plot(data['rank_popularity'],m*data['rank_popularity']+b)"
   ]
  },
  {
   "cell_type": "markdown",
   "metadata": {},
   "source": [
    "No strong correlation between duration movie with rank of popularity"
   ]
  },
  {
   "cell_type": "code",
   "execution_count": 23,
   "metadata": {},
   "outputs": [],
   "source": [
    "#create condition for metascore because some movie don't have metascore\n",
    "meta2 = data[data['meta'] != 0]"
   ]
  },
  {
   "cell_type": "code",
   "execution_count": 24,
   "metadata": {
    "scrolled": true
   },
   "outputs": [
    {
     "data": {
      "text/plain": [
       "[<matplotlib.lines.Line2D at 0x11d22cfd0>]"
      ]
     },
     "execution_count": 24,
     "metadata": {},
     "output_type": "execute_result"
    },
    {
     "data": {
      "image/png": "[encoded data removed]",
      "text/plain": [
       "<Figure size 576x360 with 1 Axes>"
      ]
     },
     "metadata": {
      "needs_background": "light"
     },
     "output_type": "display_data"
    }
   ],
   "source": [
    "#create plot relation between duration and imdb rating\n",
    "\n",
    "fig_dims = (8, 5)\n",
    "fig, ax = plt.subplots(figsize=fig_dims)\n",
    "m, b = np.polyfit(meta2['rank_popularity'],meta2['meta'],1)\n",
    "sns.scatterplot(data=meta2, x='rank_popularity', y='meta',s=80, ax=ax, color='green')\n",
    "plt.plot(meta2['rank_popularity'],m*meta2['rank_popularity']+b)"
   ]
  },
  {
   "cell_type": "markdown",
   "metadata": {},
   "source": [
    "Higher metascore usually align with rank of popularity"
   ]
  },
  {
   "cell_type": "markdown",
   "metadata": {},
   "source": [
    "Conclusion :\n",
    "IMDb uses proprietary algorithms that take into account several measures of popularity for movies. The primary measure is who and what people are looking at on IMDb.\n",
    "\n",
    "Based on plots above show rank popularity usually align with total votes, IMDB rating and metascore. While duration movie doesn't have relation"
   ]
  },
  {
   "cell_type": "code",
   "execution_count": 25,
   "metadata": {
    "scrolled": true
   },
   "outputs": [
    {
     "data": {
      "text/html": [
       "<div>\n",
       "<style scoped>\n",
       "    .dataframe tbody tr th:only-of-type {\n",
       "        vertical-align: middle;\n",
       "    }\n",
       "\n",
       "    .dataframe tbody tr th {\n",
       "        vertical-align: top;\n",
       "    }\n",
       "\n",
       "    .dataframe thead th {\n",
       "        text-align: right;\n",
       "    }\n",
       "</style>\n",
       "<table border=\"1\" class=\"dataframe\">\n",
       "  <thead>\n",
       "    <tr style=\"text-align: right;\">\n",
       "      <th></th>\n",
       "      <th>title</th>\n",
       "      <th>year</th>\n",
       "      <th>imdb</th>\n",
       "      <th>meta</th>\n",
       "      <th>votes</th>\n",
       "      <th>duration</th>\n",
       "      <th>genre</th>\n",
       "      <th>rank_popularity</th>\n",
       "      <th>genre_1</th>\n",
       "      <th>genre_2</th>\n",
       "      <th>genre_3</th>\n",
       "      <th>Action</th>\n",
       "      <th>Drama</th>\n",
       "      <th>Thriller</th>\n",
       "    </tr>\n",
       "  </thead>\n",
       "  <tbody>\n",
       "    <tr>\n",
       "      <th>0</th>\n",
       "      <td>The Mandalorian</td>\n",
       "      <td>(2019– )</td>\n",
       "      <td>8.7</td>\n",
       "      <td>0</td>\n",
       "      <td>220069</td>\n",
       "      <td>40</td>\n",
       "      <td>Action, Adventure, Sci-Fi</td>\n",
       "      <td>1</td>\n",
       "      <td>Action</td>\n",
       "      <td>Adventure</td>\n",
       "      <td>Sci-Fi</td>\n",
       "      <td>Yes</td>\n",
       "      <td>No</td>\n",
       "      <td>No</td>\n",
       "    </tr>\n",
       "    <tr>\n",
       "      <th>1</th>\n",
       "      <td>His Dark Materials</td>\n",
       "      <td>(2019– )</td>\n",
       "      <td>7.9</td>\n",
       "      <td>0</td>\n",
       "      <td>42239</td>\n",
       "      <td>60</td>\n",
       "      <td>Adventure, Drama, Family</td>\n",
       "      <td>2</td>\n",
       "      <td>Adventure</td>\n",
       "      <td>Drama</td>\n",
       "      <td>Family</td>\n",
       "      <td>No</td>\n",
       "      <td>Yes</td>\n",
       "      <td>No</td>\n",
       "    </tr>\n",
       "    <tr>\n",
       "      <th>2</th>\n",
       "      <td>The Boys</td>\n",
       "      <td>(2019– )</td>\n",
       "      <td>8.7</td>\n",
       "      <td>0</td>\n",
       "      <td>218061</td>\n",
       "      <td>60</td>\n",
       "      <td>Action, Comedy, Crime</td>\n",
       "      <td>3</td>\n",
       "      <td>Action</td>\n",
       "      <td>Comedy</td>\n",
       "      <td>Crime</td>\n",
       "      <td>Yes</td>\n",
       "      <td>No</td>\n",
       "      <td>No</td>\n",
       "    </tr>\n",
       "    <tr>\n",
       "      <th>3</th>\n",
       "      <td>Dreamland</td>\n",
       "      <td>(I) (2019)</td>\n",
       "      <td>5.7</td>\n",
       "      <td>57</td>\n",
       "      <td>1234</td>\n",
       "      <td>98</td>\n",
       "      <td>Drama, Thriller</td>\n",
       "      <td>4</td>\n",
       "      <td>Drama</td>\n",
       "      <td>Thriller</td>\n",
       "      <td>None</td>\n",
       "      <td>No</td>\n",
       "      <td>Yes</td>\n",
       "      <td>Yes</td>\n",
       "    </tr>\n",
       "    <tr>\n",
       "      <th>4</th>\n",
       "      <td>Jojo Rabbit</td>\n",
       "      <td>(2019)</td>\n",
       "      <td>7.9</td>\n",
       "      <td>58</td>\n",
       "      <td>278348</td>\n",
       "      <td>108</td>\n",
       "      <td>Comedy, Drama, War</td>\n",
       "      <td>5</td>\n",
       "      <td>Comedy</td>\n",
       "      <td>Drama</td>\n",
       "      <td>War</td>\n",
       "      <td>No</td>\n",
       "      <td>Yes</td>\n",
       "      <td>No</td>\n",
       "    </tr>\n",
       "    <tr>\n",
       "      <th>5</th>\n",
       "      <td>Servant</td>\n",
       "      <td>(2019– )</td>\n",
       "      <td>7.6</td>\n",
       "      <td>0</td>\n",
       "      <td>15900</td>\n",
       "      <td>30</td>\n",
       "      <td>Drama, Horror, Thriller</td>\n",
       "      <td>6</td>\n",
       "      <td>Drama</td>\n",
       "      <td>Horror</td>\n",
       "      <td>Thriller</td>\n",
       "      <td>No</td>\n",
       "      <td>Yes</td>\n",
       "      <td>Yes</td>\n",
       "    </tr>\n",
       "    <tr>\n",
       "      <th>6</th>\n",
       "      <td>Wayne</td>\n",
       "      <td>(2019)</td>\n",
       "      <td>8.4</td>\n",
       "      <td>0</td>\n",
       "      <td>8550</td>\n",
       "      <td>30</td>\n",
       "      <td>Action, Comedy</td>\n",
       "      <td>7</td>\n",
       "      <td>Action</td>\n",
       "      <td>Comedy</td>\n",
       "      <td>None</td>\n",
       "      <td>Yes</td>\n",
       "      <td>No</td>\n",
       "      <td>No</td>\n",
       "    </tr>\n",
       "  </tbody>\n",
       "</table>\n",
       "</div>"
      ],
      "text/plain": [
       "                title        year  imdb  meta   votes  duration  \\\n",
       "0     The Mandalorian    (2019– )   8.7     0  220069        40   \n",
       "1  His Dark Materials    (2019– )   7.9     0   42239        60   \n",
       "2            The Boys    (2019– )   8.7     0  218061        60   \n",
       "3           Dreamland  (I) (2019)   5.7    57    1234        98   \n",
       "4         Jojo Rabbit      (2019)   7.9    58  278348       108   \n",
       "5             Servant    (2019– )   7.6     0   15900        30   \n",
       "6               Wayne      (2019)   8.4     0    8550        30   \n",
       "\n",
       "                       genre  rank_popularity    genre_1    genre_2   genre_3  \\\n",
       "0  Action, Adventure, Sci-Fi                1     Action  Adventure    Sci-Fi   \n",
       "1   Adventure, Drama, Family                2  Adventure      Drama    Family   \n",
       "2      Action, Comedy, Crime                3     Action     Comedy     Crime   \n",
       "3            Drama, Thriller                4      Drama   Thriller      None   \n",
       "4         Comedy, Drama, War                5     Comedy      Drama       War   \n",
       "5    Drama, Horror, Thriller                6      Drama     Horror  Thriller   \n",
       "6             Action, Comedy                7     Action     Comedy      None   \n",
       "\n",
       "  Action Drama Thriller  \n",
       "0    Yes    No       No  \n",
       "1     No   Yes       No  \n",
       "2    Yes    No       No  \n",
       "3     No   Yes      Yes  \n",
       "4     No   Yes       No  \n",
       "5     No   Yes      Yes  \n",
       "6    Yes    No       No  "
      ]
     },
     "execution_count": 25,
     "metadata": {},
     "output_type": "execute_result"
    }
   ],
   "source": [
    "#limit for top 7 movies\n",
    "top7 = data.head(7)\n",
    "top7"
   ]
  },
  {
   "cell_type": "code",
   "execution_count": 26,
   "metadata": {},
   "outputs": [
    {
     "data": {
      "text/html": [
       "<div>\n",
       "<style scoped>\n",
       "    .dataframe tbody tr th:only-of-type {\n",
       "        vertical-align: middle;\n",
       "    }\n",
       "\n",
       "    .dataframe tbody tr th {\n",
       "        vertical-align: top;\n",
       "    }\n",
       "\n",
       "    .dataframe thead th {\n",
       "        text-align: right;\n",
       "    }\n",
       "</style>\n",
       "<table border=\"1\" class=\"dataframe\">\n",
       "  <thead>\n",
       "    <tr style=\"text-align: right;\">\n",
       "      <th></th>\n",
       "      <th>year</th>\n",
       "      <th>imdb</th>\n",
       "      <th>meta</th>\n",
       "      <th>votes</th>\n",
       "      <th>duration</th>\n",
       "      <th>genre</th>\n",
       "      <th>rank_popularity</th>\n",
       "      <th>genre_1</th>\n",
       "      <th>genre_2</th>\n",
       "      <th>genre_3</th>\n",
       "      <th>Action</th>\n",
       "      <th>Drama</th>\n",
       "      <th>Thriller</th>\n",
       "    </tr>\n",
       "    <tr>\n",
       "      <th>title</th>\n",
       "      <th></th>\n",
       "      <th></th>\n",
       "      <th></th>\n",
       "      <th></th>\n",
       "      <th></th>\n",
       "      <th></th>\n",
       "      <th></th>\n",
       "      <th></th>\n",
       "      <th></th>\n",
       "      <th></th>\n",
       "      <th></th>\n",
       "      <th></th>\n",
       "      <th></th>\n",
       "    </tr>\n",
       "  </thead>\n",
       "  <tbody>\n",
       "    <tr>\n",
       "      <th>The Mandalorian</th>\n",
       "      <td>(2019– )</td>\n",
       "      <td>8.7</td>\n",
       "      <td>0</td>\n",
       "      <td>220069</td>\n",
       "      <td>40</td>\n",
       "      <td>Action, Adventure, Sci-Fi</td>\n",
       "      <td>1</td>\n",
       "      <td>Action</td>\n",
       "      <td>Adventure</td>\n",
       "      <td>Sci-Fi</td>\n",
       "      <td>Yes</td>\n",
       "      <td>No</td>\n",
       "      <td>No</td>\n",
       "    </tr>\n",
       "    <tr>\n",
       "      <th>His Dark Materials</th>\n",
       "      <td>(2019– )</td>\n",
       "      <td>7.9</td>\n",
       "      <td>0</td>\n",
       "      <td>42239</td>\n",
       "      <td>60</td>\n",
       "      <td>Adventure, Drama, Family</td>\n",
       "      <td>2</td>\n",
       "      <td>Adventure</td>\n",
       "      <td>Drama</td>\n",
       "      <td>Family</td>\n",
       "      <td>No</td>\n",
       "      <td>Yes</td>\n",
       "      <td>No</td>\n",
       "    </tr>\n",
       "    <tr>\n",
       "      <th>The Boys</th>\n",
       "      <td>(2019– )</td>\n",
       "      <td>8.7</td>\n",
       "      <td>0</td>\n",
       "      <td>218061</td>\n",
       "      <td>60</td>\n",
       "      <td>Action, Comedy, Crime</td>\n",
       "      <td>3</td>\n",
       "      <td>Action</td>\n",
       "      <td>Comedy</td>\n",
       "      <td>Crime</td>\n",
       "      <td>Yes</td>\n",
       "      <td>No</td>\n",
       "      <td>No</td>\n",
       "    </tr>\n",
       "    <tr>\n",
       "      <th>Dreamland</th>\n",
       "      <td>(I) (2019)</td>\n",
       "      <td>5.7</td>\n",
       "      <td>57</td>\n",
       "      <td>1234</td>\n",
       "      <td>98</td>\n",
       "      <td>Drama, Thriller</td>\n",
       "      <td>4</td>\n",
       "      <td>Drama</td>\n",
       "      <td>Thriller</td>\n",
       "      <td>None</td>\n",
       "      <td>No</td>\n",
       "      <td>Yes</td>\n",
       "      <td>Yes</td>\n",
       "    </tr>\n",
       "    <tr>\n",
       "      <th>Jojo Rabbit</th>\n",
       "      <td>(2019)</td>\n",
       "      <td>7.9</td>\n",
       "      <td>58</td>\n",
       "      <td>278348</td>\n",
       "      <td>108</td>\n",
       "      <td>Comedy, Drama, War</td>\n",
       "      <td>5</td>\n",
       "      <td>Comedy</td>\n",
       "      <td>Drama</td>\n",
       "      <td>War</td>\n",
       "      <td>No</td>\n",
       "      <td>Yes</td>\n",
       "      <td>No</td>\n",
       "    </tr>\n",
       "    <tr>\n",
       "      <th>Servant</th>\n",
       "      <td>(2019– )</td>\n",
       "      <td>7.6</td>\n",
       "      <td>0</td>\n",
       "      <td>15900</td>\n",
       "      <td>30</td>\n",
       "      <td>Drama, Horror, Thriller</td>\n",
       "      <td>6</td>\n",
       "      <td>Drama</td>\n",
       "      <td>Horror</td>\n",
       "      <td>Thriller</td>\n",
       "      <td>No</td>\n",
       "      <td>Yes</td>\n",
       "      <td>Yes</td>\n",
       "    </tr>\n",
       "    <tr>\n",
       "      <th>Wayne</th>\n",
       "      <td>(2019)</td>\n",
       "      <td>8.4</td>\n",
       "      <td>0</td>\n",
       "      <td>8550</td>\n",
       "      <td>30</td>\n",
       "      <td>Action, Comedy</td>\n",
       "      <td>7</td>\n",
       "      <td>Action</td>\n",
       "      <td>Comedy</td>\n",
       "      <td>None</td>\n",
       "      <td>Yes</td>\n",
       "      <td>No</td>\n",
       "      <td>No</td>\n",
       "    </tr>\n",
       "  </tbody>\n",
       "</table>\n",
       "</div>"
      ],
      "text/plain": [
       "                          year  imdb  meta   votes  duration  \\\n",
       "title                                                          \n",
       "The Mandalorian       (2019– )   8.7     0  220069        40   \n",
       "His Dark Materials    (2019– )   7.9     0   42239        60   \n",
       "The Boys              (2019– )   8.7     0  218061        60   \n",
       "Dreamland           (I) (2019)   5.7    57    1234        98   \n",
       "Jojo Rabbit             (2019)   7.9    58  278348       108   \n",
       "Servant               (2019– )   7.6     0   15900        30   \n",
       "Wayne                   (2019)   8.4     0    8550        30   \n",
       "\n",
       "                                        genre  rank_popularity    genre_1  \\\n",
       "title                                                                       \n",
       "The Mandalorian     Action, Adventure, Sci-Fi                1     Action   \n",
       "His Dark Materials   Adventure, Drama, Family                2  Adventure   \n",
       "The Boys                Action, Comedy, Crime                3     Action   \n",
       "Dreamland                     Drama, Thriller                4      Drama   \n",
       "Jojo Rabbit                Comedy, Drama, War                5     Comedy   \n",
       "Servant               Drama, Horror, Thriller                6      Drama   \n",
       "Wayne                          Action, Comedy                7     Action   \n",
       "\n",
       "                      genre_2   genre_3 Action Drama Thriller  \n",
       "title                                                          \n",
       "The Mandalorian     Adventure    Sci-Fi    Yes    No       No  \n",
       "His Dark Materials      Drama    Family     No   Yes       No  \n",
       "The Boys               Comedy     Crime    Yes    No       No  \n",
       "Dreamland            Thriller      None     No   Yes      Yes  \n",
       "Jojo Rabbit             Drama       War     No   Yes       No  \n",
       "Servant                Horror  Thriller     No   Yes      Yes  \n",
       "Wayne                  Comedy      None    Yes    No       No  "
      ]
     },
     "execution_count": 26,
     "metadata": {},
     "output_type": "execute_result"
    }
   ],
   "source": [
    "top7.set_index('title')"
   ]
  },
  {
   "cell_type": "code",
   "execution_count": 27,
   "metadata": {
    "scrolled": true
   },
   "outputs": [
    {
     "data": {
      "text/plain": [
       "<matplotlib.axes._subplots.AxesSubplot at 0x11d2589a0>"
      ]
     },
     "execution_count": 27,
     "metadata": {},
     "output_type": "execute_result"
    },
    {
     "data": {
      "image/png": "[encoded data removed]",
      "text/plain": [
       "<Figure size 1296x360 with 2 Axes>"
      ]
     },
     "metadata": {
      "needs_background": "light"
     },
     "output_type": "display_data"
    }
   ],
   "source": [
    "#create plot trend of votes, imdb rating for each top 7 movie based on popularity\n",
    "\n",
    "fig_dims = (18, 5)\n",
    "fig, ax = plt.subplots(figsize=fig_dims)\n",
    "ax.set_xlabel(\"title\",fontsize=14, color =\"blue\", fontweight='bold')\n",
    "ax.set_ylabel(\"votes\",fontsize=14, color =\"blue\", fontweight='bold')\n",
    "ax.xaxis.set_ticklabels(top7['title'],color=\"black\", fontweight='bold')\n",
    "sns.lineplot(data=top7, x='title', y='votes', ax=ax, color = \"blue\", linewidth=4,\n",
    "              solid_joinstyle='bevel', solid_capstyle='round', sort=False)\n",
    "\n",
    "ax2 = ax.twinx()\n",
    "ax2.set_ylabel(\"imdb\",fontsize=14, color =\"red\", fontweight='bold')\n",
    "sns.lineplot(data=top7, x='title', y='imdb', ax=ax2, color=\"red\", linewidth=4,              \n",
    "             solid_joinstyle='bevel', solid_capstyle='round', sort=False)"
   ]
  },
  {
   "cell_type": "markdown",
   "metadata": {},
   "source": [
    "From top 7 movies only Dreamland that has IMDB below 7 but still in top 7 of popularity. \n",
    "While 3 movies, His Dark Material, Servant and Wayne have low votes but has high score of IMDb and popularit"
   ]
  },
  {
   "cell_type": "code",
   "execution_count": 28,
   "metadata": {},
   "outputs": [
    {
     "data": {
      "text/plain": [
       "<matplotlib.legend.Legend at 0x11d59eac0>"
      ]
     },
     "execution_count": 28,
     "metadata": {},
     "output_type": "execute_result"
    },
    {
     "data": {
      "image/png": "[encoded data removed]",
      "text/plain": [
       "<Figure size 576x360 with 1 Axes>"
      ]
     },
     "metadata": {
      "needs_background": "light"
     },
     "output_type": "display_data"
    }
   ],
   "source": [
    "#create plot trend of duration, imdb rating for each top 7 movie based on popularity\n",
    "\n",
    "fig_dims = (8, 5)\n",
    "fig, ax = plt.subplots(figsize=fig_dims)\n",
    "sns.scatterplot(data=top7, x='duration', y='imdb', s=200, hue=\"title\", ax=ax)\n",
    "plt.legend(bbox_to_anchor=(1.01, 1), loc='upper left')"
   ]
  },
  {
   "cell_type": "code",
   "execution_count": 29,
   "metadata": {
    "scrolled": true
   },
   "outputs": [
    {
     "data": {
      "text/plain": [
       "<matplotlib.legend.Legend at 0x11d152d30>"
      ]
     },
     "execution_count": 29,
     "metadata": {},
     "output_type": "execute_result"
    },
    {
     "data": {
      "image/png": "[encoded data removed]",
      "text/plain": [
       "<Figure size 576x360 with 1 Axes>"
      ]
     },
     "metadata": {
      "needs_background": "light"
     },
     "output_type": "display_data"
    }
   ],
   "source": [
    "#create plot trend of votes, imdb rating for each top 7 movie based on popularity\n",
    "\n",
    "fig_dims = (8, 5)\n",
    "fig, ax = plt.subplots(figsize=fig_dims)\n",
    "sns.scatterplot(data=top7, x='votes', y='imdb', s=200, hue=\"title\", ax=ax)\n",
    "plt.legend(bbox_to_anchor=(1.01, 1), loc='upper left')"
   ]
  },
  {
   "cell_type": "markdown",
   "metadata": {},
   "source": [
    "Link for Flask Dashboard : http://127.0.0.1:5000/"
   ]
  },
  {
   "cell_type": "code",
   "execution_count": 30,
   "metadata": {},
   "outputs": [],
   "source": [
    "#export data to csv file\n",
    "data.to_csv('imdb.csv')"
   ]
  },
  {
   "cell_type": "markdown",
   "metadata": {},
   "source": [
    "Thank you"
   ]
  }
 ],
 "metadata": {
  "kernelspec": {
   "display_name": "Python 3",
   "language": "python",
   "name": "python3"
  },
  "language_info": {
   "codemirror_mode": {
    "name": "ipython",
    "version": 3
   },
   "file_extension": ".py",
   "mimetype": "text/x-python",
   "name": "python",
   "nbconvert_exporter": "python",
   "pygments_lexer": "ipython3",
   "version": "3.8.3"
  },
  "toc": {
   "base_numbering": 1,
   "nav_menu": {},
   "number_sections": true,
   "sideBar": true,
   "skip_h1_title": false,
   "title_cell": "Table of Contents",
   "title_sidebar": "Contents",
   "toc_cell": false,
   "toc_position": {},
   "toc_section_display": true,
   "toc_window_display": false
  },
  "varInspector": {
   "cols": {
    "lenName": 16,
    "lenType": 16,
    "lenVar": 40
   },
   "kernels_config": {
    "python": {
     "delete_cmd_postfix": "",
     "delete_cmd_prefix": "del ",
     "library": "var_list.py",
     "varRefreshCmd": "print(var_dic_list())"
    },
    "r": {
     "delete_cmd_postfix": ") ",
     "delete_cmd_prefix": "rm(",
     "library": "var_list.r",
     "varRefreshCmd": "cat(var_dic_list()) "
    }
   },
   "types_to_exclude": [
    "module",
    "function",
    "builtin_function_or_method",
    "instance",
    "_Feature"
   ],
   "window_display": false
  }
 },
 "nbformat": 4,
 "nbformat_minor": 2
}
